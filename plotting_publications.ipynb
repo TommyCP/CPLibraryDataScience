{
 "cells": [
  {
   "cell_type": "markdown",
   "metadata": {},
   "source": [
    "# Plotting publications using plotly "
   ]
  },
  {
   "cell_type": "code",
   "execution_count": 10,
   "metadata": {
    "collapsed": true
   },
   "outputs": [],
   "source": [
    "import pandas as pd\n",
    "import plotly.plotly as py\n",
    "import plotly.graph_objs as go\n",
    "import plotly.tools as tls\n",
    "# Need to add personal credentials\n",
    "tls.set_credentials_file(username='', api_key='')"
   ]
  },
  {
   "cell_type": "code",
   "execution_count": 3,
   "metadata": {
    "collapsed": true
   },
   "outputs": [],
   "source": [
    "df = pd.read_csv('publications.csv')"
   ]
  },
  {
   "cell_type": "code",
   "execution_count": 4,
   "metadata": {
    "collapsed": false
   },
   "outputs": [
    {
     "data": {
      "text/html": [
       "<div>\n",
       "<table border=\"1\" class=\"dataframe\">\n",
       "  <thead>\n",
       "    <tr style=\"text-align: right;\">\n",
       "      <th></th>\n",
       "      <th>School Year</th>\n",
       "      <th>Total Issues</th>\n",
       "      <th>Total Pages</th>\n",
       "      <th>Title</th>\n",
       "    </tr>\n",
       "  </thead>\n",
       "  <tbody>\n",
       "    <tr>\n",
       "      <th>0</th>\n",
       "      <td>1915</td>\n",
       "      <td>7</td>\n",
       "      <td>32</td>\n",
       "      <td>The Polygram</td>\n",
       "    </tr>\n",
       "    <tr>\n",
       "      <th>1</th>\n",
       "      <td>1916</td>\n",
       "      <td>25</td>\n",
       "      <td>174</td>\n",
       "      <td>The Polygram</td>\n",
       "    </tr>\n",
       "    <tr>\n",
       "      <th>2</th>\n",
       "      <td>1917</td>\n",
       "      <td>13</td>\n",
       "      <td>52</td>\n",
       "      <td>The Polygram</td>\n",
       "    </tr>\n",
       "    <tr>\n",
       "      <th>3</th>\n",
       "      <td>1918</td>\n",
       "      <td>15</td>\n",
       "      <td>60</td>\n",
       "      <td>The Polygram</td>\n",
       "    </tr>\n",
       "    <tr>\n",
       "      <th>4</th>\n",
       "      <td>1919</td>\n",
       "      <td>15</td>\n",
       "      <td>60</td>\n",
       "      <td>The Polygram</td>\n",
       "    </tr>\n",
       "  </tbody>\n",
       "</table>\n",
       "</div>"
      ],
      "text/plain": [
       "   School Year  Total Issues  Total Pages         Title\n",
       "0         1915             7           32  The Polygram\n",
       "1         1916            25          174  The Polygram\n",
       "2         1917            13           52  The Polygram\n",
       "3         1918            15           60  The Polygram\n",
       "4         1919            15           60  The Polygram"
      ]
     },
     "execution_count": 4,
     "metadata": {},
     "output_type": "execute_result"
    }
   ],
   "source": [
    "df.head()"
   ]
  },
  {
   "cell_type": "code",
   "execution_count": 5,
   "metadata": {
    "collapsed": false
   },
   "outputs": [
    {
     "data": {
      "text/plain": [
       "array(['The Polygram', 'El Mustang', 'The Polytechnic Californian',\n",
       "       'Mustang Daily', 'Outpost', 'Summer Mustang', 'Mustang News'], dtype=object)"
      ]
     },
     "execution_count": 5,
     "metadata": {},
     "output_type": "execute_result"
    }
   ],
   "source": [
    "df['Title'].unique()"
   ]
  },
  {
   "cell_type": "code",
   "execution_count": 6,
   "metadata": {
    "collapsed": true
   },
   "outputs": [],
   "source": [
    "the_polygram = df[df['Title']==\"The Polygram\"]\n",
    "el_mustang = df[df['Title']==\"El Mustang\"]\n",
    "the_polytechinic_californian = df[df['Title']==\"The Polytechnic Californian\"]\n",
    "mustang_daily = df[df['Title']==\"Mustang Daily\"]\n",
    "outpost = df[df['Title']==\"Outpost\"]\n",
    "summer_mustang = df[df['Title']==\"Summer Mustang\"]\n",
    "mustang_news = df[df['Title']==\"Mustang News\"]"
   ]
  },
  {
   "cell_type": "code",
   "execution_count": 7,
   "metadata": {
    "collapsed": false
   },
   "outputs": [
    {
     "data": {
      "text/html": [
       "<div>\n",
       "<table border=\"1\" class=\"dataframe\">\n",
       "  <thead>\n",
       "    <tr style=\"text-align: right;\">\n",
       "      <th></th>\n",
       "      <th>School Year</th>\n",
       "      <th>Total Issues</th>\n",
       "      <th>Total Pages</th>\n",
       "      <th>Title</th>\n",
       "    </tr>\n",
       "  </thead>\n",
       "  <tbody>\n",
       "    <tr>\n",
       "      <th>0</th>\n",
       "      <td>1915</td>\n",
       "      <td>7</td>\n",
       "      <td>32</td>\n",
       "      <td>The Polygram</td>\n",
       "    </tr>\n",
       "    <tr>\n",
       "      <th>1</th>\n",
       "      <td>1916</td>\n",
       "      <td>25</td>\n",
       "      <td>174</td>\n",
       "      <td>The Polygram</td>\n",
       "    </tr>\n",
       "    <tr>\n",
       "      <th>2</th>\n",
       "      <td>1917</td>\n",
       "      <td>13</td>\n",
       "      <td>52</td>\n",
       "      <td>The Polygram</td>\n",
       "    </tr>\n",
       "    <tr>\n",
       "      <th>3</th>\n",
       "      <td>1918</td>\n",
       "      <td>15</td>\n",
       "      <td>60</td>\n",
       "      <td>The Polygram</td>\n",
       "    </tr>\n",
       "    <tr>\n",
       "      <th>4</th>\n",
       "      <td>1919</td>\n",
       "      <td>15</td>\n",
       "      <td>60</td>\n",
       "      <td>The Polygram</td>\n",
       "    </tr>\n",
       "  </tbody>\n",
       "</table>\n",
       "</div>"
      ],
      "text/plain": [
       "   School Year  Total Issues  Total Pages         Title\n",
       "0         1915             7           32  The Polygram\n",
       "1         1916            25          174  The Polygram\n",
       "2         1917            13           52  The Polygram\n",
       "3         1918            15           60  The Polygram\n",
       "4         1919            15           60  The Polygram"
      ]
     },
     "execution_count": 7,
     "metadata": {},
     "output_type": "execute_result"
    }
   ],
   "source": [
    "the_polygram.head()"
   ]
  },
  {
   "cell_type": "code",
   "execution_count": 8,
   "metadata": {
    "collapsed": true
   },
   "outputs": [],
   "source": [
    "trace_the_polygram = go.Bar(\n",
    "    x=the_polygram['School Year'],\n",
    "    y=the_polygram['Total Issues'],\n",
    "    name='The Polygram'\n",
    ")\n",
    "\n",
    "trace_el_mustang = go.Bar(\n",
    "    x=el_mustang['School Year'],\n",
    "    y=el_mustang['Total Issues'],\n",
    "    name='El Mustang'\n",
    ")\n",
    "trace_the_polytechinic_californian = go.Bar(\n",
    "    x=the_polytechinic_californian['School Year'],\n",
    "    y=the_polytechinic_californian['Total Issues'],\n",
    "    name='The Polytechnic Californian'\n",
    ")\n",
    "trace_mustang_daily = go.Bar(\n",
    "    x=mustang_daily['School Year'],\n",
    "    y=mustang_daily['Total Issues'],\n",
    "    name='Mustang Daily'\n",
    ")\n",
    "trace_outpost = go.Bar(\n",
    "    x=outpost['School Year'],\n",
    "    y=outpost['Total Issues'],\n",
    "    name='Outpost'\n",
    ")\n",
    "\n",
    "trace_summer_mustang = go.Bar(\n",
    "    x=summer_mustang['School Year'],\n",
    "    y=summer_mustang['Total Issues'],\n",
    "    name='Summer Mustang'\n",
    ") \n",
    "\n",
    "trace_mustang_news = go.Bar(\n",
    "    x=mustang_news['School Year'],\n",
    "    y=mustang_news['Total Issues'],\n",
    "    name='Mustang News'\n",
    ")"
   ]
  },
  {
   "cell_type": "code",
   "execution_count": 19,
   "metadata": {
    "collapsed": false
   },
   "outputs": [
    {
     "data": {
      "text/html": [
       "<iframe id=\"igraph\" scrolling=\"no\" style=\"border:none;\" seamless=\"seamless\" src=\"https://plot.ly/~739curli/7.embed\" height=\"525px\" width=\"100%\"></iframe>"
      ],
      "text/plain": [
       "<plotly.tools.PlotlyDisplay object>"
      ]
     },
     "execution_count": 19,
     "metadata": {},
     "output_type": "execute_result"
    }
   ],
   "source": [
    "data = [trace_the_polygram, trace_el_mustang,trace_the_polytechinic_californian, trace_mustang_daily, trace_outpost, trace_summer_mustang, trace_mustang_news ]\n",
    "layout = go.Layout(\n",
    "    barmode='stack',\n",
    "    title='Cal Poly Publications',\n",
    "    plot_bgcolor='rgba(0,0,0,0)',\n",
    "    xaxis=dict(\n",
    "        title='Years',\n",
    "        titlefont=dict(\n",
    "            family='Courier New, monospace',\n",
    "            size=18,\n",
    "            color='#7f7f7f'\n",
    "        )\n",
    "    ),\n",
    "    yaxis=dict(\n",
    "        title='Issues',\n",
    "        titlefont=dict(\n",
    "            family='Courier New, monospace',\n",
    "            size=18,\n",
    "            color='#7f7f7f'\n",
    "        )\n",
    "    )\n",
    ")\n",
    "fig = go.Figure(data=data, layout=layout)\n",
    "py.iplot(fig, filename='stacked-bar')"
   ]
  },
  {
   "cell_type": "code",
   "execution_count": null,
   "metadata": {
    "collapsed": true
   },
   "outputs": [],
   "source": []
  }
 ],
 "metadata": {
  "anaconda-cloud": {},
  "kernelspec": {
   "display_name": "Python [Root]",
   "language": "python",
   "name": "Python [Root]"
  },
  "language_info": {
   "codemirror_mode": {
    "name": "ipython",
    "version": 3
   },
   "file_extension": ".py",
   "mimetype": "text/x-python",
   "name": "python",
   "nbconvert_exporter": "python",
   "pygments_lexer": "ipython3",
   "version": "3.5.2"
  }
 },
 "nbformat": 4,
 "nbformat_minor": 0
}
