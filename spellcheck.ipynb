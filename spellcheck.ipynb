{
 "cells": [
  {
   "cell_type": "code",
   "execution_count": 1,
   "metadata": {
    "collapsed": false
   },
   "outputs": [],
   "source": [
    "import enchant\n",
    "import os\n",
    "import csv"
   ]
  },
  {
   "cell_type": "code",
   "execution_count": 4,
   "metadata": {
    "collapsed": false
   },
   "outputs": [],
   "source": [
    "d = enchant.Dict('en_US')\n",
    "english_words = open('english_words1.csv','w')\n",
    "writer = csv.writer(english_words)\n",
    "writer.writerow(['issue','num_tokens','num_words','percentage'])\n",
    "for f in os.listdir('Desktop/txtfiles')[::10]:\n",
    "    if f[0] is not '.':\n",
    "        with open('Desktop/txtfiles/'+f) as file:\n",
    "            data = file.read().replace('\\n',' ')\n",
    "            tokens = data.split()\n",
    "            words = [t for t in tokens if d.check(t)]\n",
    "            writer.writerow([f,str(len(tokens)),str(len(words)),\"{0:.2f}\".format(len(words)/len(tokens))])\n",
    "english_words.close()"
   ]
  }
 ],
 "metadata": {
  "anaconda-cloud": {},
  "kernelspec": {
   "display_name": "Python [Root]",
   "language": "python",
   "name": "Python [Root]"
  },
  "language_info": {
   "codemirror_mode": {
    "name": "ipython",
    "version": 3
   },
   "file_extension": ".py",
   "mimetype": "text/x-python",
   "name": "python",
   "nbconvert_exporter": "python",
   "pygments_lexer": "ipython3",
   "version": "3.5.2"
  }
 },
 "nbformat": 4,
 "nbformat_minor": 0
}
